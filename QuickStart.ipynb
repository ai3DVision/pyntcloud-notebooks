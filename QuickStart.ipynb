{
 "cells": [
  {
   "cell_type": "markdown",
   "metadata": {},
   "source": [
    "# pyntcloud QuickStart "
   ]
  },
  {
   "cell_type": "markdown",
   "metadata": {},
   "source": [
    "The following notebook is a **real-world** example of using [pyntcloud](https://github.com/daavoo/pyntcloud)."
   ]
  },
  {
   "cell_type": "markdown",
   "metadata": {},
   "source": [
    "---"
   ]
  },
  {
   "cell_type": "markdown",
   "metadata": {},
   "source": [
    "It's our first day at the Jurassic Park Computer Vision Lab!!\n",
    "\n",
    "We are given a 3D scene simulating the point clouds that are generated from a\n",
    "lidar sensor on top of one of the Jurassic Park self-driving cars.\n",
    "\n",
    "Here is a view of the 3D scene (I'm not very skillful at 3D modelling):\n",
    "\n",
    "![view of scene](data/1.png)"
   ]
  },
  {
   "cell_type": "markdown",
   "metadata": {},
   "source": [
    "### In order to run this tutorial locally, download the scene from [this link](https://mega.nz/#!qIZ13T7B!USyVexfYb8J3SDC_3h3HVUhFMXE2z0qUZNn3Ov4GXX0)."
   ]
  },
  {
   "cell_type": "markdown",
   "metadata": {},
   "source": [
    "We will be only working with the parts of the scene that are visible from\n",
    "the front of the car, in order to simulate what a real lidar sees.\n",
    "\n",
    "**Our task** is to help the JP car chosing whether it should turn to the left, where\n",
    "there is an apacible ankylosaurus, or right, where there is a hungry tyranosaurus.\n"
   ]
  },
  {
   "cell_type": "markdown",
   "metadata": {},
   "source": [
    "---"
   ]
  },
  {
   "cell_type": "markdown",
   "metadata": {},
   "source": [
    "Most of pyntcloud's functionallity can be accesed through the core class: [PyntCloud](http://pyntcloud.readthedocs.io/en/latest/PyntCloud.html)."
   ]
  },
  {
   "cell_type": "code",
   "execution_count": null,
   "metadata": {
    "collapsed": true
   },
   "outputs": [],
   "source": [
    "from pyntcloud import PyntCloud"
   ]
  },
  {
   "cell_type": "markdown",
   "metadata": {},
   "source": [
    "And this is the only import we need for now."
   ]
  },
  {
   "cell_type": "markdown",
   "metadata": {},
   "source": [
    "## Loading 3D data"
   ]
  },
  {
   "cell_type": "markdown",
   "metadata": {},
   "source": [
    "The first thing we are going to do is load the 3D data into Python, using PyntCloud's class method: [from_file](http://pyntcloud.readthedocs.io/en/latest/io.html)"
   ]
  },
  {
   "cell_type": "code",
   "execution_count": null,
   "metadata": {},
   "outputs": [],
   "source": [
    "scene = PyntCloud.from_file(\"data/visible.ply\")"
   ]
  },
  {
   "cell_type": "markdown",
   "metadata": {},
   "source": [
    "We can get some basic information of the scene using the internal `__repr__` method:"
   ]
  },
  {
   "cell_type": "code",
   "execution_count": null,
   "metadata": {},
   "outputs": [],
   "source": [
    "scene"
   ]
  },
  {
   "cell_type": "markdown",
   "metadata": {},
   "source": [
    "This allows us to realize that the file is actually a triangular mesh. We can tell this because there are 99059 faces in mesh."
   ]
  },
  {
   "cell_type": "code",
   "execution_count": null,
   "metadata": {
    "scrolled": false
   },
   "outputs": [],
   "source": [
    "scene.mesh.head()"
   ]
  },
  {
   "cell_type": "markdown",
   "metadata": {},
   "source": [
    "Those lazy bastards from the desing deparment didn't convert the 3D model into a point cloud, wich is the real output from a lidar scanner."
   ]
  },
  {
   "cell_type": "markdown",
   "metadata": {},
   "source": [
    "## 3D point cloud from 3D mesh"
   ]
  },
  {
   "cell_type": "markdown",
   "metadata": {},
   "source": [
    "Luckely for us, we can convert a triangular mesh into a point cloud:"
   ]
  },
  {
   "cell_type": "code",
   "execution_count": null,
   "metadata": {
    "collapsed": true
   },
   "outputs": [],
   "source": [
    "# sample 500000 points from the mesh\n",
    "sampled_points = scene.get_sample(\"mesh_random_sampling\",\n",
    "                                  n=500000,\n",
    "                                  rgb=True,\n",
    "                                  normals=True)\n",
    "\n",
    "# manually construcst a new PyntCloud with those points\n",
    "scene = PyntCloud(sampled_points)"
   ]
  },
  {
   "cell_type": "markdown",
   "metadata": {},
   "source": [
    "We can verify the result using the `__repr__` method mentioned above (this time using the `print` function) ..."
   ]
  },
  {
   "cell_type": "code",
   "execution_count": null,
   "metadata": {},
   "outputs": [],
   "source": [
    "print(scene)"
   ]
  },
  {
   "cell_type": "markdown",
   "metadata": {},
   "source": [
    "... Take a look at the information in points ..."
   ]
  },
  {
   "cell_type": "code",
   "execution_count": null,
   "metadata": {},
   "outputs": [],
   "source": [
    "scene.points.head()"
   ]
  },
  {
   "cell_type": "markdown",
   "metadata": {},
   "source": [
    "... And visualize the point cloud right inside the notebook!"
   ]
  },
  {
   "cell_type": "code",
   "execution_count": null,
   "metadata": {},
   "outputs": [],
   "source": [
    "scene.plot()"
   ]
  },
  {
   "cell_type": "markdown",
   "metadata": {},
   "source": [
    "## Floor segmentation"
   ]
  },
  {
   "cell_type": "markdown",
   "metadata": {},
   "source": [
    "We are not interested in the points that compose the floor, so we will use [RANSAC](https://es.wikipedia.org/wiki/RANSAC) to find the plane that contains those points."
   ]
  },
  {
   "cell_type": "markdown",
   "metadata": {},
   "source": [
    "This is a good example of using the function [add_scalar_field](http://pyntcloud.readthedocs.io/en/latest/scalar_fields.html), wich will add a new column to `points` and return a `string` with the name of that column."
   ]
  },
  {
   "cell_type": "markdown",
   "metadata": {},
   "source": [
    "It's a good practice to store the strings returned `from PyntCloud.`**add_**`*` methods. As you will see later, this it quite convenient when chaining operations that require those strings as arguments."
   ]
  },
  {
   "cell_type": "code",
   "execution_count": null,
   "metadata": {
    "scrolled": true
   },
   "outputs": [],
   "source": [
    "is_floor = scene.add_scalar_field(\"plane_fit\",\n",
    "                                  n_inliers_to_stop=len(scene.points)/30)"
   ]
  },
  {
   "cell_type": "markdown",
   "metadata": {},
   "source": [
    "This method adds a new column to points."
   ]
  },
  {
   "cell_type": "code",
   "execution_count": null,
   "metadata": {},
   "outputs": [],
   "source": [
    "scene.points.head()"
   ]
  },
  {
   "cell_type": "markdown",
   "metadata": {},
   "source": [
    "In this case, the name of the new scalar field ('is_plane') is as large as the name of the variable where we store it.\n",
    "\n",
    "However you will find out that many scalar field have a more complex names, and thus is more convenient to always store them in a variable."
   ]
  },
  {
   "cell_type": "markdown",
   "metadata": {},
   "source": [
    "We can now visualize the point cloud colored with the new scalar field."
   ]
  },
  {
   "cell_type": "markdown",
   "metadata": {},
   "source": [
    "The `plot` function allows us to define some usefull keyword arguments."
   ]
  },
  {
   "cell_type": "code",
   "execution_count": null,
   "metadata": {},
   "outputs": [],
   "source": [
    "help(PyntCloud.plot)"
   ]
  },
  {
   "cell_type": "code",
   "execution_count": null,
   "metadata": {},
   "outputs": [],
   "source": [
    "scene.plot(use_as_color=is_floor, cmap=\"RdYlGn\", output_name=\"is_floor\")"
   ]
  },
  {
   "cell_type": "markdown",
   "metadata": {},
   "source": [
    "Now we can use the added scalar field to extract the non-floor parts of the scene."
   ]
  },
  {
   "cell_type": "code",
   "execution_count": null,
   "metadata": {
    "collapsed": true
   },
   "outputs": [],
   "source": [
    "# creates a boolean array\n",
    "not_floor = scene.points[is_floor] != 1 "
   ]
  },
  {
   "cell_type": "code",
   "execution_count": null,
   "metadata": {},
   "outputs": [],
   "source": [
    "scene.points = scene.points.loc[not_floor].reset_index(drop=True)"
   ]
  },
  {
   "cell_type": "code",
   "execution_count": null,
   "metadata": {},
   "outputs": [],
   "source": [
    "scene.points.head()"
   ]
  },
  {
   "cell_type": "code",
   "execution_count": null,
   "metadata": {},
   "outputs": [],
   "source": [
    "scene.plot(output_name=\"without_floor\")"
   ]
  },
  {
   "cell_type": "markdown",
   "metadata": {},
   "source": [
    "## Clustering dinosaurs"
   ]
  },
  {
   "cell_type": "markdown",
   "metadata": {
    "collapsed": true
   },
   "source": [
    "Let's separate the points that belong to each dinosaur using a simple clustering technique called euclidean clustering. \n",
    "\n",
    "This is a good example of chaining `add_` operations storing the string indetifiers in variables.\n",
    "\n",
    "First, we will add a VoxelGrid to the PyntCloud using [add_structure](http://pyntcloud.readthedocs.io/en/latest/structures.html).\n",
    "\n",
    "The `sizes` parameter is quite important. If the distance between one query point and it's closest point in some cluster is higher than `size`, the point won't be considered part of that cluster.\n",
    "\n",
    "In this case, we now that Dinosaurs are pretty damm big, and they are not really close, so let's set a separation of 3 metters along the 3 axis."
   ]
  },
  {
   "cell_type": "code",
   "execution_count": null,
   "metadata": {
    "collapsed": true
   },
   "outputs": [],
   "source": [
    "vg_id = scene.add_structure(\"voxelgrid\", sizes=[3,3,3])"
   ]
  },
  {
   "cell_type": "markdown",
   "metadata": {},
   "source": [
    "Using the voxelgrid, we can add a new scalar field that indicates to wich cluster each point belong."
   ]
  },
  {
   "cell_type": "code",
   "execution_count": null,
   "metadata": {},
   "outputs": [],
   "source": [
    "clusters_id = scene.add_scalar_field(\"euclidean_clusters\", voxelgrid=vg_id)"
   ]
  },
  {
   "cell_type": "markdown",
   "metadata": {},
   "source": [
    "And visualize the scene colored according to those clusters:"
   ]
  },
  {
   "cell_type": "code",
   "execution_count": null,
   "metadata": {},
   "outputs": [],
   "source": [
    "scene.plot(use_as_color=clusters_id, cmap=\"cool\")"
   ]
  },
  {
   "cell_type": "markdown",
   "metadata": {},
   "source": [
    "## Using Deep Learning to clasify dinosaurs"
   ]
  },
  {
   "cell_type": "code",
   "execution_count": null,
   "metadata": {
    "collapsed": true
   },
   "outputs": [],
   "source": []
  },
  {
   "cell_type": "code",
   "execution_count": null,
   "metadata": {
    "collapsed": true
   },
   "outputs": [],
   "source": []
  },
  {
   "cell_type": "code",
   "execution_count": null,
   "metadata": {},
   "outputs": [],
   "source": [
    "from utils import clean_visualizations"
   ]
  },
  {
   "cell_type": "code",
   "execution_count": null,
   "metadata": {},
   "outputs": [],
   "source": [
    "clean_visualizations(os.getcwd())"
   ]
  }
 ],
 "metadata": {
  "anaconda-cloud": {},
  "kernelspec": {
   "display_name": "Python [conda env:pyntcloud]",
   "language": "python",
   "name": "conda-env-pyntcloud-py"
  },
  "language_info": {
   "codemirror_mode": {
    "name": "ipython",
    "version": 3
   },
   "file_extension": ".py",
   "mimetype": "text/x-python",
   "name": "python",
   "nbconvert_exporter": "python",
   "pygments_lexer": "ipython3",
   "version": "3.6.1"
  }
 },
 "nbformat": 4,
 "nbformat_minor": 2
}
