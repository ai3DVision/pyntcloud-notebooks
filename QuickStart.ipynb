{
 "cells": [
  {
   "cell_type": "markdown",
   "metadata": {
    "nbpresent": {
     "id": "67233f89-433b-40e7-b57b-6414846ed42e"
    }
   },
   "source": [
    "# pyntcloud QuickStart "
   ]
  },
  {
   "cell_type": "markdown",
   "metadata": {
    "nbpresent": {
     "id": "7ebdaf1e-35d7-4972-bab7-1ec4141f5e7a"
    }
   },
   "source": [
    "The following notebook is a **real-world** example of using [pyntcloud](https://github.com/daavoo/pyntcloud)."
   ]
  },
  {
   "cell_type": "markdown",
   "metadata": {
    "nbpresent": {
     "id": "e45b73ae-c27b-41de-8c9d-3957f5df91b4"
    }
   },
   "source": [
    "---"
   ]
  },
  {
   "cell_type": "markdown",
   "metadata": {
    "nbpresent": {
     "id": "5895b895-4923-4986-af14-0f8b8954d67b"
    }
   },
   "source": [
    "It's our first day at the Jurassic Park Computer Vision Lab!!\n",
    "\n",
    "We are given a 3D scene simulating the point clouds that are generated from a\n",
    "lidar sensor on top of one of the Jurassic Park self-driving cars.\n",
    "\n",
    "Here is a view of the 3D scene (I'm not very skillful at 3D modelling):\n",
    "\n",
    "![view of scene](data/1.png)"
   ]
  },
  {
   "cell_type": "markdown",
   "metadata": {
    "nbpresent": {
     "id": "58b9efb9-36b2-4a61-8184-5a81e7cfb649"
    }
   },
   "source": [
    "### In order to run this tutorial locally, download the scene from [this link](https://mega.nz/#!qIZ13T7B!USyVexfYb8J3SDC_3h3HVUhFMXE2z0qUZNn3Ov4GXX0)."
   ]
  },
  {
   "cell_type": "markdown",
   "metadata": {
    "nbpresent": {
     "id": "43cd2394-b9ad-4e71-8976-0c7c3ad478a8"
    }
   },
   "source": [
    "We will be only working with the parts of the scene that are visible from\n",
    "the front of the car, in order to simulate what a real lidar sees.\n",
    "\n",
    "**Our task** is to help the JP car chosing whether it should turn to the left, where\n",
    "there is an apacible ankylosaurus, or right, where there is a hungry tyranosaurus.\n"
   ]
  },
  {
   "cell_type": "markdown",
   "metadata": {
    "nbpresent": {
     "id": "d34c2879-e4cd-4831-81f4-d05cf2a04cf8"
    }
   },
   "source": [
    "---"
   ]
  },
  {
   "cell_type": "markdown",
   "metadata": {
    "nbpresent": {
     "id": "e9b2331e-1b42-4f10-acd3-4da230996080"
    }
   },
   "source": [
    "Most of pyntcloud's functionallity can be accesed through the core class: [PyntCloud](http://pyntcloud.readthedocs.io/en/latest/PyntCloud.html)."
   ]
  },
  {
   "cell_type": "code",
   "execution_count": 1,
   "metadata": {
    "collapsed": true,
    "nbpresent": {
     "id": "8e958d1d-f5e8-43a5-bee8-dcc072e05b14"
    }
   },
   "outputs": [],
   "source": [
    "from pyntcloud import PyntCloud"
   ]
  },
  {
   "cell_type": "markdown",
   "metadata": {
    "nbpresent": {
     "id": "41157e9c-0858-4412-b217-e5d1abd81ffe"
    }
   },
   "source": [
    "And this is the only import we need for now."
   ]
  },
  {
   "cell_type": "markdown",
   "metadata": {
    "nbpresent": {
     "id": "2c0b1f13-412b-4bed-82c0-fdee4b384563"
    }
   },
   "source": [
    "## Loading 3D data"
   ]
  },
  {
   "cell_type": "markdown",
   "metadata": {
    "nbpresent": {
     "id": "973cbb65-ed3d-401f-b03e-8141c0414a91"
    }
   },
   "source": [
    "The first thing we are going to do is load the 3D data into Python, using PyntCloud's class method: [from_file](http://pyntcloud.readthedocs.io/en/latest/io.html)"
   ]
  },
  {
   "cell_type": "code",
   "execution_count": 2,
   "metadata": {
    "collapsed": true,
    "nbpresent": {
     "id": "080faee4-f285-4b64-9870-79d0d72229ec"
    }
   },
   "outputs": [],
   "source": [
    "scene = PyntCloud.from_file(\"data/visible.ply\")"
   ]
  },
  {
   "cell_type": "markdown",
   "metadata": {
    "nbpresent": {
     "id": "2af63d2f-52c9-4a91-ae58-dc4f411bd8a4"
    }
   },
   "source": [
    "We can get some basic information of the scene using the internal `__repr__` method:"
   ]
  },
  {
   "cell_type": "code",
   "execution_count": 3,
   "metadata": {
    "nbpresent": {
     "id": "aea457dd-0a56-45c0-887c-e13dead4b87e"
    }
   },
   "outputs": [
    {
     "data": {
      "text/plain": [
       "PyntCloud\n",
       "51777 points with 7 scalar fields\n",
       "99059 faces in mesh\n",
       "0 kdtrees\n",
       "0 voxelgrids\n",
       "Centroid: -17.429340362548828, 7.901965618133545, 5.268535137176514\n",
       "Other attributes:"
      ]
     },
     "execution_count": 3,
     "metadata": {},
     "output_type": "execute_result"
    }
   ],
   "source": [
    "scene"
   ]
  },
  {
   "cell_type": "markdown",
   "metadata": {
    "nbpresent": {
     "id": "697078c8-8b0f-4eec-8d38-041ebbd58424"
    }
   },
   "source": [
    "This allows us to realize that the file is actually a triangular mesh. We can tell this because there are 99059 faces in mesh."
   ]
  },
  {
   "cell_type": "code",
   "execution_count": 4,
   "metadata": {
    "nbpresent": {
     "id": "f06017c0-4f44-4444-9b80-02a2b95b5132"
    },
    "scrolled": false
   },
   "outputs": [
    {
     "data": {
      "text/html": [
       "<div>\n",
       "<table border=\"1\" class=\"dataframe\">\n",
       "  <thead>\n",
       "    <tr style=\"text-align: right;\">\n",
       "      <th></th>\n",
       "      <th>v1</th>\n",
       "      <th>v2</th>\n",
       "      <th>v3</th>\n",
       "    </tr>\n",
       "  </thead>\n",
       "  <tbody>\n",
       "    <tr>\n",
       "      <th>0</th>\n",
       "      <td>0</td>\n",
       "      <td>2</td>\n",
       "      <td>1</td>\n",
       "    </tr>\n",
       "    <tr>\n",
       "      <th>1</th>\n",
       "      <td>0</td>\n",
       "      <td>3</td>\n",
       "      <td>2</td>\n",
       "    </tr>\n",
       "    <tr>\n",
       "      <th>2</th>\n",
       "      <td>37</td>\n",
       "      <td>83</td>\n",
       "      <td>36</td>\n",
       "    </tr>\n",
       "    <tr>\n",
       "      <th>3</th>\n",
       "      <td>37</td>\n",
       "      <td>38</td>\n",
       "      <td>84</td>\n",
       "    </tr>\n",
       "    <tr>\n",
       "      <th>4</th>\n",
       "      <td>39</td>\n",
       "      <td>84</td>\n",
       "      <td>38</td>\n",
       "    </tr>\n",
       "  </tbody>\n",
       "</table>\n",
       "</div>"
      ],
      "text/plain": [
       "   v1  v2  v3\n",
       "0   0   2   1\n",
       "1   0   3   2\n",
       "2  37  83  36\n",
       "3  37  38  84\n",
       "4  39  84  38"
      ]
     },
     "execution_count": 4,
     "metadata": {},
     "output_type": "execute_result"
    }
   ],
   "source": [
    "scene.mesh.head()"
   ]
  },
  {
   "cell_type": "markdown",
   "metadata": {
    "nbpresent": {
     "id": "33845724-f68f-4fb4-93e2-b4d0a22812ab"
    }
   },
   "source": [
    "Those lazy bastards from the desing deparment didn't convert the 3D model into a point cloud, wich is the real output from a lidar scanner."
   ]
  },
  {
   "cell_type": "markdown",
   "metadata": {
    "nbpresent": {
     "id": "0f6844a0-b6af-43c7-8fdf-b9658b3c2609"
    }
   },
   "source": [
    "## 3D point cloud from 3D mesh"
   ]
  },
  {
   "cell_type": "markdown",
   "metadata": {
    "nbpresent": {
     "id": "f54864de-9dc7-4cb1-8ab0-aa7372fd6e3e"
    }
   },
   "source": [
    "Luckely for us, we can convert a triangular mesh into a point cloud:"
   ]
  },
  {
   "cell_type": "code",
   "execution_count": 5,
   "metadata": {
    "collapsed": true,
    "nbpresent": {
     "id": "f9a1b82f-0a0b-423e-bbf3-e7e9d76bc2ef"
    }
   },
   "outputs": [],
   "source": [
    "# sample 500000 points from the mesh\n",
    "sampled_points = scene.get_sample(\"mesh_random_sampling\",\n",
    "                                  n=500000,\n",
    "                                  rgb=True,\n",
    "                                  normals=True)\n",
    "\n",
    "# manually construcst a new PyntCloud with those points\n",
    "scene = PyntCloud(sampled_points)"
   ]
  },
  {
   "cell_type": "markdown",
   "metadata": {
    "nbpresent": {
     "id": "f6fc2dc8-e686-414b-a8ec-4ade6b8955bf"
    }
   },
   "source": [
    "We can verify the result using the `__repr__` method mentioned above (this time using the `print` function) ..."
   ]
  },
  {
   "cell_type": "code",
   "execution_count": 6,
   "metadata": {
    "nbpresent": {
     "id": "638bf21a-cecb-4ef8-83e3-9b72cd6a27f2"
    }
   },
   "outputs": [
    {
     "name": "stdout",
     "output_type": "stream",
     "text": [
      "PyntCloud\n",
      "500000 points with 6 scalar fields\n",
      "0 faces in mesh\n",
      "0 kdtrees\n",
      "0 voxelgrids\n",
      "Centroid: -10.081748008728027, 0.9480186104774475, 0.3907921612262726\n",
      "Other attributes:\n",
      "\n"
     ]
    }
   ],
   "source": [
    "print(scene)"
   ]
  },
  {
   "cell_type": "markdown",
   "metadata": {
    "nbpresent": {
     "id": "3aa78a82-a86e-4175-a6b5-ec75bc38ba23"
    }
   },
   "source": [
    "... Take a look at the information in points ..."
   ]
  },
  {
   "cell_type": "code",
   "execution_count": 7,
   "metadata": {
    "nbpresent": {
     "id": "7a822272-3c70-47d8-9cb5-5abea2ad8ed8"
    }
   },
   "outputs": [
    {
     "data": {
      "text/html": [
       "<div>\n",
       "<table border=\"1\" class=\"dataframe\">\n",
       "  <thead>\n",
       "    <tr style=\"text-align: right;\">\n",
       "      <th></th>\n",
       "      <th>x</th>\n",
       "      <th>y</th>\n",
       "      <th>z</th>\n",
       "      <th>red</th>\n",
       "      <th>green</th>\n",
       "      <th>blue</th>\n",
       "      <th>nx</th>\n",
       "      <th>ny</th>\n",
       "      <th>nz</th>\n",
       "    </tr>\n",
       "  </thead>\n",
       "  <tbody>\n",
       "    <tr>\n",
       "      <th>0</th>\n",
       "      <td>-10.218865</td>\n",
       "      <td>0.106860</td>\n",
       "      <td>0.000000</td>\n",
       "      <td>0</td>\n",
       "      <td>28</td>\n",
       "      <td>0</td>\n",
       "      <td>0.000000</td>\n",
       "      <td>0.000000</td>\n",
       "      <td>1.000000</td>\n",
       "    </tr>\n",
       "    <tr>\n",
       "      <th>1</th>\n",
       "      <td>-17.654833</td>\n",
       "      <td>-19.405439</td>\n",
       "      <td>0.000000</td>\n",
       "      <td>0</td>\n",
       "      <td>85</td>\n",
       "      <td>0</td>\n",
       "      <td>0.000000</td>\n",
       "      <td>0.000000</td>\n",
       "      <td>1.000000</td>\n",
       "    </tr>\n",
       "    <tr>\n",
       "      <th>2</th>\n",
       "      <td>-15.657837</td>\n",
       "      <td>24.334534</td>\n",
       "      <td>7.097624</td>\n",
       "      <td>105</td>\n",
       "      <td>66</td>\n",
       "      <td>44</td>\n",
       "      <td>0.907271</td>\n",
       "      <td>0.078978</td>\n",
       "      <td>0.413065</td>\n",
       "    </tr>\n",
       "    <tr>\n",
       "      <th>3</th>\n",
       "      <td>-18.207640</td>\n",
       "      <td>0.631519</td>\n",
       "      <td>0.000000</td>\n",
       "      <td>0</td>\n",
       "      <td>28</td>\n",
       "      <td>0</td>\n",
       "      <td>0.000000</td>\n",
       "      <td>0.000000</td>\n",
       "      <td>1.000000</td>\n",
       "    </tr>\n",
       "    <tr>\n",
       "      <th>4</th>\n",
       "      <td>-12.181130</td>\n",
       "      <td>-39.528580</td>\n",
       "      <td>0.000000</td>\n",
       "      <td>0</td>\n",
       "      <td>85</td>\n",
       "      <td>0</td>\n",
       "      <td>0.000000</td>\n",
       "      <td>0.000000</td>\n",
       "      <td>1.000000</td>\n",
       "    </tr>\n",
       "  </tbody>\n",
       "</table>\n",
       "</div>"
      ],
      "text/plain": [
       "           x          y         z  red  green  blue        nx        ny  \\\n",
       "0 -10.218865   0.106860  0.000000    0     28     0  0.000000  0.000000   \n",
       "1 -17.654833 -19.405439  0.000000    0     85     0  0.000000  0.000000   \n",
       "2 -15.657837  24.334534  7.097624  105     66    44  0.907271  0.078978   \n",
       "3 -18.207640   0.631519  0.000000    0     28     0  0.000000  0.000000   \n",
       "4 -12.181130 -39.528580  0.000000    0     85     0  0.000000  0.000000   \n",
       "\n",
       "         nz  \n",
       "0  1.000000  \n",
       "1  1.000000  \n",
       "2  0.413065  \n",
       "3  1.000000  \n",
       "4  1.000000  "
      ]
     },
     "execution_count": 7,
     "metadata": {},
     "output_type": "execute_result"
    }
   ],
   "source": [
    "scene.points.head()"
   ]
  },
  {
   "cell_type": "markdown",
   "metadata": {
    "nbpresent": {
     "id": "be2fec2e-79b9-4443-ae4d-76407cfb58e5"
    }
   },
   "source": [
    "... And visualize the point cloud right inside the notebook!"
   ]
  },
  {
   "cell_type": "code",
   "execution_count": 8,
   "metadata": {
    "nbpresent": {
     "id": "8d608765-09b4-484d-a0a2-2c3bf1d57dad"
    }
   },
   "outputs": [
    {
     "data": {
      "text/html": [
       "\n",
       "        <iframe\n",
       "            width=\"800\"\n",
       "            height=\"500\"\n",
       "            src=\"pyntcloud_plot.html\"\n",
       "            frameborder=\"0\"\n",
       "            allowfullscreen\n",
       "        ></iframe>\n",
       "        "
      ],
      "text/plain": [
       "<IPython.lib.display.IFrame at 0x7fb98fb9ec88>"
      ]
     },
     "execution_count": 8,
     "metadata": {},
     "output_type": "execute_result"
    }
   ],
   "source": [
    "scene.plot()"
   ]
  },
  {
   "cell_type": "markdown",
   "metadata": {
    "nbpresent": {
     "id": "0cbe2565-3cd5-4c8a-a205-55497b2043e2"
    }
   },
   "source": [
    "## Floor segmentation"
   ]
  },
  {
   "cell_type": "markdown",
   "metadata": {
    "nbpresent": {
     "id": "8a43c8e7-90d3-4c4c-9fb4-22c2e19cfd95"
    }
   },
   "source": [
    "We are not interested in the points that compose the floor, so we will use [RANSAC](https://es.wikipedia.org/wiki/RANSAC) to find the plane that contains those points."
   ]
  },
  {
   "cell_type": "markdown",
   "metadata": {
    "nbpresent": {
     "id": "b166c4c1-dc8e-4b33-960a-f3eaccfcfd7e"
    }
   },
   "source": [
    "This is a good example of using the function [add_scalar_field](http://pyntcloud.readthedocs.io/en/latest/scalar_fields.html), wich will add a new column to `points` and return a `string` with the name of that column."
   ]
  },
  {
   "cell_type": "markdown",
   "metadata": {
    "nbpresent": {
     "id": "59db8dcc-ede9-469b-9b6e-ef3d1a77c6d8"
    }
   },
   "source": [
    "It's a good practice to store the strings returned `from PyntCloud.`**add_**`*` methods. As you will see later, this it quite convenient when chaining operations that require those strings as arguments."
   ]
  },
  {
   "cell_type": "code",
   "execution_count": 9,
   "metadata": {
    "collapsed": true,
    "nbpresent": {
     "id": "0ac2ea08-bbc3-4e87-b67e-99ce27860c8a"
    },
    "scrolled": true
   },
   "outputs": [],
   "source": [
    "is_floor = scene.add_scalar_field(\"plane_fit\",\n",
    "                                  n_inliers_to_stop=len(scene.points)/30)"
   ]
  },
  {
   "cell_type": "markdown",
   "metadata": {
    "nbpresent": {
     "id": "a4bbd290-fb8a-4e6b-98f8-52809d897ac6"
    }
   },
   "source": [
    "This method adds a new column to points."
   ]
  },
  {
   "cell_type": "code",
   "execution_count": 10,
   "metadata": {
    "nbpresent": {
     "id": "7ca44613-39ac-410a-90dc-405d9af635db"
    }
   },
   "outputs": [
    {
     "data": {
      "text/html": [
       "<div>\n",
       "<table border=\"1\" class=\"dataframe\">\n",
       "  <thead>\n",
       "    <tr style=\"text-align: right;\">\n",
       "      <th></th>\n",
       "      <th>x</th>\n",
       "      <th>y</th>\n",
       "      <th>z</th>\n",
       "      <th>red</th>\n",
       "      <th>green</th>\n",
       "      <th>blue</th>\n",
       "      <th>nx</th>\n",
       "      <th>ny</th>\n",
       "      <th>nz</th>\n",
       "      <th>is_plane</th>\n",
       "    </tr>\n",
       "  </thead>\n",
       "  <tbody>\n",
       "    <tr>\n",
       "      <th>0</th>\n",
       "      <td>-10.218865</td>\n",
       "      <td>0.106860</td>\n",
       "      <td>0.000000</td>\n",
       "      <td>0</td>\n",
       "      <td>28</td>\n",
       "      <td>0</td>\n",
       "      <td>0.000000</td>\n",
       "      <td>0.000000</td>\n",
       "      <td>1.000000</td>\n",
       "      <td>1</td>\n",
       "    </tr>\n",
       "    <tr>\n",
       "      <th>1</th>\n",
       "      <td>-17.654833</td>\n",
       "      <td>-19.405439</td>\n",
       "      <td>0.000000</td>\n",
       "      <td>0</td>\n",
       "      <td>85</td>\n",
       "      <td>0</td>\n",
       "      <td>0.000000</td>\n",
       "      <td>0.000000</td>\n",
       "      <td>1.000000</td>\n",
       "      <td>1</td>\n",
       "    </tr>\n",
       "    <tr>\n",
       "      <th>2</th>\n",
       "      <td>-15.657837</td>\n",
       "      <td>24.334534</td>\n",
       "      <td>7.097624</td>\n",
       "      <td>105</td>\n",
       "      <td>66</td>\n",
       "      <td>44</td>\n",
       "      <td>0.907271</td>\n",
       "      <td>0.078978</td>\n",
       "      <td>0.413065</td>\n",
       "      <td>0</td>\n",
       "    </tr>\n",
       "    <tr>\n",
       "      <th>3</th>\n",
       "      <td>-18.207640</td>\n",
       "      <td>0.631519</td>\n",
       "      <td>0.000000</td>\n",
       "      <td>0</td>\n",
       "      <td>28</td>\n",
       "      <td>0</td>\n",
       "      <td>0.000000</td>\n",
       "      <td>0.000000</td>\n",
       "      <td>1.000000</td>\n",
       "      <td>1</td>\n",
       "    </tr>\n",
       "    <tr>\n",
       "      <th>4</th>\n",
       "      <td>-12.181130</td>\n",
       "      <td>-39.528580</td>\n",
       "      <td>0.000000</td>\n",
       "      <td>0</td>\n",
       "      <td>85</td>\n",
       "      <td>0</td>\n",
       "      <td>0.000000</td>\n",
       "      <td>0.000000</td>\n",
       "      <td>1.000000</td>\n",
       "      <td>1</td>\n",
       "    </tr>\n",
       "  </tbody>\n",
       "</table>\n",
       "</div>"
      ],
      "text/plain": [
       "           x          y         z  red  green  blue        nx        ny  \\\n",
       "0 -10.218865   0.106860  0.000000    0     28     0  0.000000  0.000000   \n",
       "1 -17.654833 -19.405439  0.000000    0     85     0  0.000000  0.000000   \n",
       "2 -15.657837  24.334534  7.097624  105     66    44  0.907271  0.078978   \n",
       "3 -18.207640   0.631519  0.000000    0     28     0  0.000000  0.000000   \n",
       "4 -12.181130 -39.528580  0.000000    0     85     0  0.000000  0.000000   \n",
       "\n",
       "         nz  is_plane  \n",
       "0  1.000000         1  \n",
       "1  1.000000         1  \n",
       "2  0.413065         0  \n",
       "3  1.000000         1  \n",
       "4  1.000000         1  "
      ]
     },
     "execution_count": 10,
     "metadata": {},
     "output_type": "execute_result"
    }
   ],
   "source": [
    "scene.points.head()"
   ]
  },
  {
   "cell_type": "markdown",
   "metadata": {
    "nbpresent": {
     "id": "4d66b7d5-ca3c-4ea4-a849-fbd51d624dda"
    }
   },
   "source": [
    "In this case, the name of the new scalar field ('is_plane') is as large as the name of the variable where we store it.\n",
    "\n",
    "However you will find out that many scalar field have a more complex names, and thus is more convenient to always store them in a variable."
   ]
  },
  {
   "cell_type": "markdown",
   "metadata": {
    "nbpresent": {
     "id": "5f4537e1-2a2a-4dc5-9132-8edf0aaee631"
    }
   },
   "source": [
    "We can now visualize the point cloud colored with the new scalar field."
   ]
  },
  {
   "cell_type": "markdown",
   "metadata": {
    "nbpresent": {
     "id": "afaa79fd-129e-471f-a8df-2910a74aab82"
    }
   },
   "source": [
    "The `plot` function allows us to define some usefull keyword arguments."
   ]
  },
  {
   "cell_type": "code",
   "execution_count": 11,
   "metadata": {
    "nbpresent": {
     "id": "52db52db-10bc-4bbd-8472-ba6b158ce843"
    }
   },
   "outputs": [
    {
     "name": "stdout",
     "output_type": "stream",
     "text": [
      "Help on function plot in module pyntcloud.core_class:\n",
      "\n",
      "plot(self, use_as_color=['red', 'green', 'blue'], cmap='hsv', output_name='pyntcloud_plot', width=800, height=500)\n",
      "    Visualize PyntCloud in a Jupyter notebook using three.js.\n",
      "    \n",
      "    Parameters\n",
      "    ----------\n",
      "    use_as_color: str or [\"red\", \"green\", \"blue\"], optional\n",
      "        Default: [\"red\", \"green\", \"blue\"]\n",
      "        Indicates wich scalar fields will be used to colorize the rendered\n",
      "        point cloud.\n",
      "    \n",
      "    cmap: str, optional\n",
      "        Default: \"hsv\"\n",
      "        Color map that will be used to convert a single scalar field into rgb.\n",
      "        Check matplotlib cmaps.\n",
      "    \n",
      "    output_name: str, optional\n",
      "        Default: \"pyntcloud_plot\"\n",
      "        Base filename that will be used to create:\n",
      "            output_name.html\n",
      "            output_name.ply\n",
      "            output_name.json\n",
      "    \n",
      "    width: int, optional\n",
      "        Default: 800\n",
      "        Adjusts the size of the IFrame plotted in Jupyter notebook.\n",
      "    \n",
      "    height: int, optional\n",
      "        Default: 500\n",
      "        Adjusts the size of the IFrame plotted in Jupyter notebook.\n",
      "    \n",
      "    Returns\n",
      "    -------\n",
      "    Ipython.display.IFrame\n",
      "        output_name.html inside an IFrame\n",
      "    \n",
      "    Notes\n",
      "    -----\n",
      "    You can visualize the output_name.html outside the notebook as a regular\n",
      "    html. You might need to run a local server or adjust the browser privacy\n",
      "    policies in order to allow javascript to load local files.\n",
      "\n"
     ]
    }
   ],
   "source": [
    "help(PyntCloud.plot)"
   ]
  },
  {
   "cell_type": "code",
   "execution_count": 12,
   "metadata": {
    "nbpresent": {
     "id": "5c21c70c-de1f-401a-a328-0f0eac649821"
    }
   },
   "outputs": [
    {
     "data": {
      "text/html": [
       "\n",
       "        <iframe\n",
       "            width=\"800\"\n",
       "            height=\"500\"\n",
       "            src=\"is_floor.html\"\n",
       "            frameborder=\"0\"\n",
       "            allowfullscreen\n",
       "        ></iframe>\n",
       "        "
      ],
      "text/plain": [
       "<IPython.lib.display.IFrame at 0x7fb98fb9ee10>"
      ]
     },
     "execution_count": 12,
     "metadata": {},
     "output_type": "execute_result"
    }
   ],
   "source": [
    "scene.plot(use_as_color=is_floor, cmap=\"RdYlGn\", output_name=\"is_floor\")"
   ]
  },
  {
   "cell_type": "markdown",
   "metadata": {
    "nbpresent": {
     "id": "70e74b62-7d21-41c7-83ab-5185831575d7"
    }
   },
   "source": [
    "Now we can use the added scalar field to extract the non-floor parts of the scene."
   ]
  },
  {
   "cell_type": "code",
   "execution_count": 13,
   "metadata": {
    "collapsed": true,
    "nbpresent": {
     "id": "45a4ef1c-badd-40a6-9def-e4f9f68145be"
    }
   },
   "outputs": [],
   "source": [
    "# creates a boolean array\n",
    "not_floor = scene.points[is_floor] != 1 "
   ]
  },
  {
   "cell_type": "code",
   "execution_count": 14,
   "metadata": {
    "collapsed": true,
    "nbpresent": {
     "id": "64fb691d-f48c-407d-ab20-145200f45b6b"
    }
   },
   "outputs": [],
   "source": [
    "scene.apply_filter(not_floor)"
   ]
  },
  {
   "cell_type": "code",
   "execution_count": 15,
   "metadata": {
    "nbpresent": {
     "id": "3cbcb389-5516-4a44-9966-7d32fa34dd1a"
    }
   },
   "outputs": [
    {
     "data": {
      "text/html": [
       "<div>\n",
       "<table border=\"1\" class=\"dataframe\">\n",
       "  <thead>\n",
       "    <tr style=\"text-align: right;\">\n",
       "      <th></th>\n",
       "      <th>x</th>\n",
       "      <th>y</th>\n",
       "      <th>z</th>\n",
       "      <th>red</th>\n",
       "      <th>green</th>\n",
       "      <th>blue</th>\n",
       "      <th>nx</th>\n",
       "      <th>ny</th>\n",
       "      <th>nz</th>\n",
       "      <th>is_plane</th>\n",
       "    </tr>\n",
       "  </thead>\n",
       "  <tbody>\n",
       "    <tr>\n",
       "      <th>0</th>\n",
       "      <td>-15.657837</td>\n",
       "      <td>24.334534</td>\n",
       "      <td>7.097624</td>\n",
       "      <td>105</td>\n",
       "      <td>66</td>\n",
       "      <td>44</td>\n",
       "      <td>0.907271</td>\n",
       "      <td>0.078978</td>\n",
       "      <td>0.413065</td>\n",
       "      <td>0</td>\n",
       "    </tr>\n",
       "    <tr>\n",
       "      <th>1</th>\n",
       "      <td>-16.364546</td>\n",
       "      <td>-21.531874</td>\n",
       "      <td>1.977043</td>\n",
       "      <td>39</td>\n",
       "      <td>39</td>\n",
       "      <td>34</td>\n",
       "      <td>0.449040</td>\n",
       "      <td>-0.618624</td>\n",
       "      <td>-0.644722</td>\n",
       "      <td>0</td>\n",
       "    </tr>\n",
       "    <tr>\n",
       "      <th>2</th>\n",
       "      <td>-16.666334</td>\n",
       "      <td>25.210224</td>\n",
       "      <td>1.399786</td>\n",
       "      <td>49</td>\n",
       "      <td>30</td>\n",
       "      <td>23</td>\n",
       "      <td>0.694688</td>\n",
       "      <td>-0.713848</td>\n",
       "      <td>-0.088485</td>\n",
       "      <td>0</td>\n",
       "    </tr>\n",
       "    <tr>\n",
       "      <th>3</th>\n",
       "      <td>-15.166573</td>\n",
       "      <td>26.397392</td>\n",
       "      <td>2.580655</td>\n",
       "      <td>118</td>\n",
       "      <td>83</td>\n",
       "      <td>60</td>\n",
       "      <td>0.930862</td>\n",
       "      <td>0.016087</td>\n",
       "      <td>0.365018</td>\n",
       "      <td>0</td>\n",
       "    </tr>\n",
       "    <tr>\n",
       "      <th>4</th>\n",
       "      <td>-17.368053</td>\n",
       "      <td>21.308783</td>\n",
       "      <td>9.124968</td>\n",
       "      <td>123</td>\n",
       "      <td>116</td>\n",
       "      <td>76</td>\n",
       "      <td>0.650959</td>\n",
       "      <td>-0.405334</td>\n",
       "      <td>0.641839</td>\n",
       "      <td>0</td>\n",
       "    </tr>\n",
       "  </tbody>\n",
       "</table>\n",
       "</div>"
      ],
      "text/plain": [
       "           x          y         z  red  green  blue        nx        ny  \\\n",
       "0 -15.657837  24.334534  7.097624  105     66    44  0.907271  0.078978   \n",
       "1 -16.364546 -21.531874  1.977043   39     39    34  0.449040 -0.618624   \n",
       "2 -16.666334  25.210224  1.399786   49     30    23  0.694688 -0.713848   \n",
       "3 -15.166573  26.397392  2.580655  118     83    60  0.930862  0.016087   \n",
       "4 -17.368053  21.308783  9.124968  123    116    76  0.650959 -0.405334   \n",
       "\n",
       "         nz  is_plane  \n",
       "0  0.413065         0  \n",
       "1 -0.644722         0  \n",
       "2 -0.088485         0  \n",
       "3  0.365018         0  \n",
       "4  0.641839         0  "
      ]
     },
     "execution_count": 15,
     "metadata": {},
     "output_type": "execute_result"
    }
   ],
   "source": [
    "scene.points.head()"
   ]
  },
  {
   "cell_type": "code",
   "execution_count": 16,
   "metadata": {
    "nbpresent": {
     "id": "e6d4a995-a5d3-4c5b-aac9-6fc2fc76f4f5"
    }
   },
   "outputs": [
    {
     "data": {
      "text/html": [
       "\n",
       "        <iframe\n",
       "            width=\"800\"\n",
       "            height=\"500\"\n",
       "            src=\"without_floor.html\"\n",
       "            frameborder=\"0\"\n",
       "            allowfullscreen\n",
       "        ></iframe>\n",
       "        "
      ],
      "text/plain": [
       "<IPython.lib.display.IFrame at 0x7fb98d725630>"
      ]
     },
     "execution_count": 16,
     "metadata": {},
     "output_type": "execute_result"
    }
   ],
   "source": [
    "scene.plot(output_name=\"without_floor\")"
   ]
  },
  {
   "cell_type": "markdown",
   "metadata": {
    "nbpresent": {
     "id": "b82068f6-83e1-4c18-97ca-809675c0820e"
    }
   },
   "source": [
    "## Clustering dinosaurs"
   ]
  },
  {
   "cell_type": "markdown",
   "metadata": {
    "collapsed": true,
    "nbpresent": {
     "id": "e40f1fcc-35df-4c35-903a-950901f5d9f6"
    }
   },
   "source": [
    "Let's separate the points that belong to each dinosaur using a simple clustering technique called euclidean clustering. \n",
    "\n",
    "This is a good example of chaining `add_` operations storing the string indetifiers in variables.\n",
    "\n",
    "First, we will add a VoxelGrid to the PyntCloud using [add_structure](http://pyntcloud.readthedocs.io/en/latest/structures.html).\n",
    "\n",
    "The `sizes` parameter is quite important. If the distance between one query point and it's closest point in some cluster is higher than `size`, the point won't be considered part of that cluster.\n",
    "\n",
    "In this case, we now that Dinosaurs are pretty damm big, and they are not really close, so let's set a separation of 3 metters along the 3 axis."
   ]
  },
  {
   "cell_type": "code",
   "execution_count": 17,
   "metadata": {
    "collapsed": true,
    "nbpresent": {
     "id": "eb74cab9-d976-4a96-8a19-80283054ba5b"
    }
   },
   "outputs": [],
   "source": [
    "vg_id = scene.add_structure(\"voxelgrid\", sizes=[3,3,3])"
   ]
  },
  {
   "cell_type": "markdown",
   "metadata": {
    "nbpresent": {
     "id": "16755f7a-16a1-4c21-b3c0-e8cd3547bf54"
    }
   },
   "source": [
    "Using the voxelgrid, we can add a new scalar field that indicates to wich cluster each point belong."
   ]
  },
  {
   "cell_type": "code",
   "execution_count": 18,
   "metadata": {
    "collapsed": true,
    "nbpresent": {
     "id": "3d83deb6-baaf-4cab-89ac-45bfd65c121d"
    }
   },
   "outputs": [],
   "source": [
    "clusters_id = scene.add_scalar_field(\"euclidean_clusters\", voxelgrid=vg_id)"
   ]
  },
  {
   "cell_type": "markdown",
   "metadata": {
    "nbpresent": {
     "id": "ea75c0ff-e515-42f1-b104-b06ef8e1fe07"
    }
   },
   "source": [
    "And visualize the scene colored according to those clusters:"
   ]
  },
  {
   "cell_type": "code",
   "execution_count": 19,
   "metadata": {
    "nbpresent": {
     "id": "3a90a8d7-59f5-4b65-a5d1-162be08645ac"
    }
   },
   "outputs": [
    {
     "data": {
      "text/html": [
       "\n",
       "        <iframe\n",
       "            width=\"800\"\n",
       "            height=\"500\"\n",
       "            src=\"pyntcloud_plot.html\"\n",
       "            frameborder=\"0\"\n",
       "            allowfullscreen\n",
       "        ></iframe>\n",
       "        "
      ],
      "text/plain": [
       "<IPython.lib.display.IFrame at 0x7fb98d794358>"
      ]
     },
     "execution_count": 19,
     "metadata": {},
     "output_type": "execute_result"
    }
   ],
   "source": [
    "scene.plot(use_as_color=clusters_id, cmap=\"cool\")"
   ]
  },
  {
   "cell_type": "markdown",
   "metadata": {
    "nbpresent": {
     "id": "7f7d1aae-fa71-432a-8392-06e8accbd068"
    }
   },
   "source": [
    "## Using Deep Learning to clasify dinosaurs"
   ]
  },
  {
   "cell_type": "markdown",
   "metadata": {
    "nbpresent": {
     "id": "150522f3-0d56-4526-a099-6182d66fe3b4"
    }
   },
   "source": [
    "Deep learning is quite cool, so why don't we use it to classify wich of the clusters\n",
    "is an herbibore dinosaur and wich one a carnivore.\n",
    "\n",
    "Deep learning with 3D data involves some complications compared with 2D (images).\n",
    "\n",
    "Luckely for us, pyntcloud includes the `learn` module wich make things a lot easier.\n",
    "\n",
    "First of all, let's use the cluster information to split the point cloud, create\n",
    "a PyntCloud for each dinosaur, and save each one:"
   ]
  },
  {
   "cell_type": "code",
   "execution_count": 20,
   "metadata": {
    "collapsed": true
   },
   "outputs": [],
   "source": [
    "scene.split_on(clusters_id, save_path=\"tmp\")"
   ]
  },
  {
   "cell_type": "markdown",
   "metadata": {},
   "source": [
    "## TODO"
   ]
  },
  {
   "cell_type": "markdown",
   "metadata": {},
   "source": [
    "In order to make use of deep learning, normally we have to desing a model and train\n",
    "the model with tons of data before be able to make any good predictions.\n",
    "\n",
    "Luckely for us in pyntcloud.learn there are some pre-defined and pre-trained models\n",
    "ready to be finetuned for our own pourpuses.\n",
    "\n",
    "There is even a model already trained that can classify dinosaurs into herbibores\n",
    "and carnivores, how convenient!\n",
    "\n",
    "To make use of all this functionallity we need to first import the learn module:"
   ]
  },
  {
   "cell_type": "markdown",
   "metadata": {
    "nbpresent": {
     "id": "1dc036bd-f5b9-40fd-9ba4-7b086b9673b3"
    }
   },
   "source": [
    "## Clean directory"
   ]
  },
  {
   "cell_type": "code",
   "execution_count": 21,
   "metadata": {
    "collapsed": true,
    "nbpresent": {
     "id": "859c87a2-a69a-410b-9d14-fc126a0bd1ad"
    }
   },
   "outputs": [],
   "source": [
    "import os\n",
    "from shutil import rmtree\n",
    "from utils import clean_visualizations"
   ]
  },
  {
   "cell_type": "code",
   "execution_count": 22,
   "metadata": {
    "nbpresent": {
     "id": "c0426fae-d677-400e-aea1-4de96083fc68"
    }
   },
   "outputs": [
    {
     "name": "stdout",
     "output_type": "stream",
     "text": [
      "Removing pyntcloud_plot.html\n",
      "Removing is_floor.html\n",
      "Removing pyntcloud_plot.ply\n",
      "Removing without_floor.html\n",
      "Removing without_floor.ply\n",
      "Removing is_floor.ply\n"
     ]
    }
   ],
   "source": [
    "clean_visualizations(os.getcwd())\n",
    "rmtree(\"tmp\")"
   ]
  }
 ],
 "metadata": {
  "anaconda-cloud": {},
  "kernelspec": {
   "display_name": "Python [conda env:pyntcloud]",
   "language": "python",
   "name": "conda-env-pyntcloud-py"
  },
  "language_info": {
   "codemirror_mode": {
    "name": "ipython",
    "version": 3
   },
   "file_extension": ".py",
   "mimetype": "text/x-python",
   "name": "python",
   "nbconvert_exporter": "python",
   "pygments_lexer": "ipython3",
   "version": "3.6.1"
  },
  "nbpresent": {
   "slides": {},
   "themes": {}
  }
 },
 "nbformat": 4,
 "nbformat_minor": 2
}
